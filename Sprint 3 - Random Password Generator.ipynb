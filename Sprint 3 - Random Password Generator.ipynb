{
 "cells": [
  {
   "cell_type": "code",
   "execution_count": 14,
   "metadata": {},
   "outputs": [
    {
     "name": "stdout",
     "output_type": "stream",
     "text": [
      "?57HU!(VB5Eo\n"
     ]
    }
   ],
   "source": [
    "import string\n",
    "import random\n",
    "def password (length = 12):\n",
    "    \"\"\"Generate random passwords\"\"\"\n",
    "    charactors = string.ascii_lowercase + string.ascii_uppercase + string.digits + string.punctuation\n",
    "    \n",
    "    return \"\". join(random.choice(charactors) for i in range (length))\n",
    "    \n",
    "print(password())"
   ]
  },
  {
   "cell_type": "code",
   "execution_count": null,
   "metadata": {},
   "outputs": [],
   "source": []
  }
 ],
 "metadata": {
  "kernelspec": {
   "display_name": "Python 3",
   "language": "python",
   "name": "python3"
  },
  "language_info": {
   "codemirror_mode": {
    "name": "ipython",
    "version": 3
   },
   "file_extension": ".py",
   "mimetype": "text/x-python",
   "name": "python",
   "nbconvert_exporter": "python",
   "pygments_lexer": "ipython3",
   "version": "3.7.6"
  }
 },
 "nbformat": 4,
 "nbformat_minor": 4
}
